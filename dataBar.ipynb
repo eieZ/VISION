{
 "cells": [
  {
   "cell_type": "code",
   "execution_count": 1,
   "metadata": {},
   "outputs": [],
   "source": [
    "import pandas as pd\n",
    "import numpy as np\n",
    "from scipy.spatial.distance import cdist\n",
    "\n",
    "#load dataframes\n",
    "\n",
    "apartments = pd.read_csv('datasets/clean.csv')\n",
    "bars = pd.read_csv('datasets/bar_locations.csv')\n",
    "\n",
    "# Calculate distances between each apartment and each bar\n",
    "distances = cdist(apartments[['lat', 'long']].values, bars[['Latitude', 'Longitude']].values)\n",
    "\n",
    "# Find the index of the closest bar for each apartment\n",
    "closest_bar_index = np.argmin(distances, axis=1)\n",
    "\n",
    "# Extract the distance to the closest bar for each apartment\n",
    "closest_bar_distance = distances[np.arange(distances.shape[0]), closest_bar_index]\n",
    "\n",
    "# Add the distance to the closest bar as a new column in the apartments dataframe\n",
    "apartments['distance_to_closest_bar'] = closest_bar_distance\n",
    "apartments['distance_to_closest_bar_m'] = apartments['distance_to_closest_bar'] * 111139"
   ]
  },
  {
   "cell_type": "code",
   "execution_count": 3,
   "metadata": {},
   "outputs": [],
   "source": [
    "del apartments['Unnamed: 0']"
   ]
  },
  {
   "cell_type": "code",
   "execution_count": 5,
   "metadata": {},
   "outputs": [],
   "source": [
    "apartments.to_csv('datasets/superclean.csv')"
   ]
  }
 ],
 "metadata": {
  "kernelspec": {
   "display_name": "base",
   "language": "python",
   "name": "python3"
  },
  "language_info": {
   "codemirror_mode": {
    "name": "ipython",
    "version": 3
   },
   "file_extension": ".py",
   "mimetype": "text/x-python",
   "name": "python",
   "nbconvert_exporter": "python",
   "pygments_lexer": "ipython3",
   "version": "3.9.13"
  },
  "orig_nbformat": 4,
  "vscode": {
   "interpreter": {
    "hash": "ad2bdc8ecc057115af97d19610ffacc2b4e99fae6737bb82f5d7fb13d2f2c186"
   }
  }
 },
 "nbformat": 4,
 "nbformat_minor": 2
}
