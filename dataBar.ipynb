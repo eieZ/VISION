{
 "cells": [
  {
   "cell_type": "code",
   "execution_count": null,
   "metadata": {},
   "outputs": [],
   "source": [
    "import pandas as pd\n",
    "import numpy as np\n",
    "from scipy.spatial.distance import cdist\n",
    "\n",
    "#load dataframes\n",
    "\n",
    "apartments = pd.read_csv('datasets/clean.csv')\n",
    "bars = pd.read_csv('bar_locations.csv')\n",
    "\n",
    "# Calculate distances between each apartment and each bar\n",
    "distances = cdist(apartments[['lat', 'long']].values, bars[['Latitude', 'Longitude']].values)\n",
    "\n",
    "# Find the index of the closest bar for each apartment\n",
    "closest_bar_index = np.argmin(distances, axis=1)\n",
    "\n",
    "# Extract the distance to the closest bar for each apartment\n",
    "closest_bar_distance = distances[np.arange(distances.shape[0]), closest_bar_index]\n",
    "\n",
    "# Add the distance to the closest bar as a new column in the apartments dataframe\n",
    "apartments['distance_to_closest_bar'] = closest_bar_distance\n",
    "apartments['distance_to_closest_bar_m'] = apartments['distance_to_closest_bar'] * 111139"
   ]
  }
 ],
 "metadata": {
  "language_info": {
   "name": "python"
  },
  "orig_nbformat": 4
 },
 "nbformat": 4,
 "nbformat_minor": 2
}
